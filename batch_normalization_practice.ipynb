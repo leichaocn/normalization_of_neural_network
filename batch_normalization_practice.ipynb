{
 "cells": [
  {
   "cell_type": "markdown",
   "metadata": {},
   "source": [
    "**Batch Normalization 实践**\n",
    "\n",
    "旨在分享：\n",
    "- 了解BN的实现\n",
    "- 观察BN的效果\n",
    "- 知道BN在train和inference两个阶段的实现细节"
   ]
  },
  {
   "cell_type": "markdown",
   "metadata": {},
   "source": [
    "基于tensorflow1.5.0，python3.6.8，试验数据集为mnist"
   ]
  },
  {
   "cell_type": "code",
   "execution_count": 1,
   "metadata": {
    "ExecuteTime": {
     "end_time": "2020-01-20T07:54:09.615699Z",
     "start_time": "2020-01-20T07:53:19.361699Z"
    },
    "scrolled": true
   },
   "outputs": [
    {
     "name": "stdout",
     "output_type": "stream",
     "text": [
      "Extracting MNIST_data\\train-images-idx3-ubyte.gz\n",
      "Extracting MNIST_data\\train-labels-idx1-ubyte.gz\n",
      "Extracting MNIST_data\\t10k-images-idx3-ubyte.gz\n",
      "Extracting MNIST_data\\t10k-labels-idx1-ubyte.gz\n",
      "1.5.0\n",
      "3.6.8\n"
     ]
    }
   ],
   "source": [
    "import numpy as np, tensorflow as tf, tqdm\n",
    "from tensorflow.examples.tutorials.mnist import input_data\n",
    "import matplotlib.pyplot as plt\n",
    "%matplotlib inline\n",
    "mnist = input_data.read_data_sets('MNIST_data', one_hot=True)\n",
    "print(tf.__version__)\n",
    "import platform \n",
    "print(platform.python_version())"
   ]
  },
  {
   "cell_type": "markdown",
   "metadata": {},
   "source": [
    "# 构造神经网络（无BN和有BN）\n",
    "构建两个全连接神经网络：\n",
    "- 一个是普通网络，包括2个隐层，1个输出层。\n",
    "- 一个是有BN的网络，包括2个隐层，1个输出层。\n",
    "第1层中的BN是我们自定义的，第2层和第3层中的BN是调用tensorflow实现。"
   ]
  },
  {
   "cell_type": "markdown",
   "metadata": {},
   "source": [
    "定义输入占位符，定义三个层的权重，方便后面使用"
   ]
  },
  {
   "cell_type": "code",
   "execution_count": 2,
   "metadata": {
    "ExecuteTime": {
     "end_time": "2020-01-20T07:54:09.651699Z",
     "start_time": "2020-01-20T07:54:09.620699Z"
    }
   },
   "outputs": [],
   "source": [
    "w1_initial = np.random.normal(size=(784,100)).astype(np.float32)\n",
    "w2_initial = np.random.normal(size=(100,100)).astype(np.float32)\n",
    "w3_initial = np.random.normal(size=(100,10)).astype(np.float32)\n",
    "\n",
    "# 为BN层准备一个非常小的数字，防止出现分母为0的极端情况。\n",
    "epsilon = 1e-3\n",
    "\n",
    "x = tf.placeholder(tf.float32, shape=[None, 784])\n",
    "y_ = tf.placeholder(tf.float32, shape=[None, 10])"
   ]
  },
  {
   "cell_type": "markdown",
   "metadata": {},
   "source": [
    "Layer 1 层：无BN"
   ]
  },
  {
   "cell_type": "code",
   "execution_count": 3,
   "metadata": {
    "ExecuteTime": {
     "end_time": "2020-01-20T07:54:09.738699Z",
     "start_time": "2020-01-20T07:54:09.657699Z"
    }
   },
   "outputs": [],
   "source": [
    "w1 = tf.Variable(w1_initial)\n",
    "b1 = tf.Variable(tf.zeros([100]))\n",
    "z1 = tf.matmul(x,w1)+b1\n",
    "l1 = tf.nn.sigmoid(z1)"
   ]
  },
  {
   "cell_type": "markdown",
   "metadata": {
    "ExecuteTime": {
     "end_time": "2019-09-12T06:55:28.782309Z",
     "start_time": "2019-09-12T06:55:28.575309Z"
    }
   },
   "source": [
    "Layer 1 层：有BN（自定义BN层）"
   ]
  },
  {
   "cell_type": "code",
   "execution_count": 4,
   "metadata": {
    "ExecuteTime": {
     "end_time": "2020-01-20T07:54:09.842699Z",
     "start_time": "2020-01-20T07:54:09.742699Z"
    }
   },
   "outputs": [],
   "source": [
    "w1_BN = tf.Variable(w1_initial)\n",
    "\n",
    "# 因为BN的引入，b的作用被BN层替代，省略。\n",
    "z1_BN = tf.matmul(x,w1_BN)\n",
    "\n",
    "# 计算加权和的均值和方差，0是指batch这个维度\n",
    "batch_mean1, batch_var1 = tf.nn.moments(z1_BN,[0])\n",
    "\n",
    "# 正则化\n",
    "z1_hat = (z1_BN - batch_mean1) / tf.sqrt(batch_var1 + epsilon)\n",
    "\n",
    "# 新建两个变量scale and beta\n",
    "scale1 = tf.Variable(tf.ones([100]))\n",
    "beta1 = tf.Variable(tf.zeros([100]))\n",
    "\n",
    "# 计算被还原的BN1，即BN文章里的y\n",
    "BN1 = scale1 * z1_hat + beta1\n",
    "\n",
    "# l1_BN = tf.nn.sigmoid(BN1)\n",
    "l1_BN = tf.nn.relu(BN1)"
   ]
  },
  {
   "cell_type": "markdown",
   "metadata": {},
   "source": [
    "Layer 2 层：无BN"
   ]
  },
  {
   "cell_type": "code",
   "execution_count": 5,
   "metadata": {
    "ExecuteTime": {
     "end_time": "2020-01-20T07:54:09.876699Z",
     "start_time": "2020-01-20T07:54:09.847699Z"
    }
   },
   "outputs": [],
   "source": [
    "w2 = tf.Variable(w2_initial)\n",
    "b2 = tf.Variable(tf.zeros([100]))\n",
    "z2 = tf.matmul(l1,w2)+b2\n",
    "# l2 = tf.nn.sigmoid(z2)\n",
    "l2 = tf.nn.relu(z2)"
   ]
  },
  {
   "cell_type": "markdown",
   "metadata": {},
   "source": [
    "Layer 2 层：有BN（使用tensorflow创建BN层）"
   ]
  },
  {
   "cell_type": "code",
   "execution_count": 6,
   "metadata": {
    "ExecuteTime": {
     "end_time": "2020-01-20T07:54:09.964699Z",
     "start_time": "2020-01-20T07:54:09.885699Z"
    }
   },
   "outputs": [],
   "source": [
    "w2_BN = tf.Variable(w2_initial)\n",
    "z2_BN = tf.matmul(l1_BN,w2_BN)\n",
    "\n",
    "# 计算加权和的均值和方差，0是指batch这个维度\n",
    "batch_mean2, batch_var2 = tf.nn.moments(z2_BN,[0])\n",
    "\n",
    "# 新建两个变量scale and beta\n",
    "scale2 = tf.Variable(tf.ones([100]))\n",
    "beta2 = tf.Variable(tf.zeros([100]))\n",
    "\n",
    "# 计算被还原的BN2，即BN文章里的y。使用\n",
    "BN2 = tf.nn.batch_normalization(z2_BN,batch_mean2,batch_var2,beta2,scale2,epsilon)\n",
    "\n",
    "# l2_BN = tf.nn.sigmoid(BN2)\n",
    "l2_BN = tf.nn.relu(BN2)"
   ]
  },
  {
   "cell_type": "markdown",
   "metadata": {},
   "source": [
    "Layer 3 层：无BN"
   ]
  },
  {
   "cell_type": "code",
   "execution_count": 7,
   "metadata": {
    "ExecuteTime": {
     "end_time": "2020-01-20T07:54:10.009699Z",
     "start_time": "2020-01-20T07:54:09.972699Z"
    }
   },
   "outputs": [],
   "source": [
    "w3 = tf.Variable(w3_initial)\n",
    "b3 = tf.Variable(tf.zeros([10]))\n",
    "y  = tf.nn.softmax(tf.matmul(l2,w3)+b3)"
   ]
  },
  {
   "cell_type": "markdown",
   "metadata": {},
   "source": [
    "Layer 3 层：有BN（使用tensorflow创建BN层）"
   ]
  },
  {
   "cell_type": "code",
   "execution_count": 8,
   "metadata": {
    "ExecuteTime": {
     "end_time": "2020-01-20T07:54:10.103699Z",
     "start_time": "2020-01-20T07:54:10.020699Z"
    }
   },
   "outputs": [],
   "source": [
    "# w3_BN = tf.Variable(w3_initial)\n",
    "# b3_BN = tf.Variable(tf.zeros([10]))\n",
    "# y_BN  = tf.nn.softmax(tf.matmul(l2_BN,w3_BN)+b3_BN)\n",
    "\n",
    "w3_BN = tf.Variable(w3_initial)\n",
    "z3_BN = tf.matmul(l2_BN,w3_BN)\n",
    "\n",
    "batch_mean3, batch_var3 = tf.nn.moments(z3_BN,[0])\n",
    "scale3 = tf.Variable(tf.ones([10]))\n",
    "beta3 = tf.Variable(tf.zeros([10]))\n",
    "BN3 = tf.nn.batch_normalization(z3_BN,batch_mean3,batch_var3,beta3,scale3,epsilon)\n",
    "\n",
    "# print(BN3.get_shape())\n",
    "y_BN  = tf.nn.softmax(BN3)"
   ]
  },
  {
   "cell_type": "markdown",
   "metadata": {},
   "source": [
    "针对普通网络和BN网络，分别定义损失、优化器、精度三个op。\n",
    "- 损失使用交叉熵，因为我们输出层的激活函数为softmax。\n",
    "- 优化器用梯度下降"
   ]
  },
  {
   "cell_type": "code",
   "execution_count": 9,
   "metadata": {
    "ExecuteTime": {
     "end_time": "2020-01-20T07:54:11.479699Z",
     "start_time": "2020-01-20T07:54:10.109699Z"
    }
   },
   "outputs": [
    {
     "name": "stdout",
     "output_type": "stream",
     "text": [
      "WARNING:tensorflow:From <ipython-input-9-175577f60212>:12: arg_max (from tensorflow.python.ops.gen_math_ops) is deprecated and will be removed in a future version.\n",
      "Instructions for updating:\n",
      "Use `argmax` instead\n"
     ]
    }
   ],
   "source": [
    "# 普通网络的损失\n",
    "cross_entropy = -tf.reduce_sum(y_*tf.log(y))\n",
    "# BN网络的损失\n",
    "cross_entropy_BN = -tf.reduce_sum(y_*tf.log(y_BN))\n",
    "\n",
    "# 普通网络的优化器\n",
    "train_step = tf.train.GradientDescentOptimizer(0.01).minimize(cross_entropy)\n",
    "# BN网络的优化器\n",
    "train_step_BN = tf.train.GradientDescentOptimizer(0.01).minimize(cross_entropy_BN)\n",
    "\n",
    "# 普通网络的accuracy\n",
    "correct_prediction = tf.equal(tf.arg_max(y,1),tf.arg_max(y_,1))\n",
    "accuracy = tf.reduce_mean(tf.cast(correct_prediction,tf.float32))\n",
    "# BN网络的accuracy_BN\n",
    "correct_prediction_BN = tf.equal(tf.arg_max(y_BN,1),tf.arg_max(y_,1))\n",
    "accuracy_BN = tf.reduce_mean(tf.cast(correct_prediction_BN,tf.float32))"
   ]
  },
  {
   "cell_type": "markdown",
   "metadata": {},
   "source": [
    "# 训练网络并对比学习曲线\n",
    "- 训练普通网络、有BN网络，\n",
    "- 对比训练阶段的学习曲线。\n",
    "- 对比BN对输入加权和的影响。\n",
    "\n",
    "首先是训练普通网络、有BN网络"
   ]
  },
  {
   "cell_type": "code",
   "execution_count": 10,
   "metadata": {
    "ExecuteTime": {
     "end_time": "2020-01-20T08:01:06.353099Z",
     "start_time": "2020-01-20T07:54:11.485699Z"
    }
   },
   "outputs": [
    {
     "name": "stderr",
     "output_type": "stream",
     "text": [
      "100%|████████████████████████████████████| 40000/40000 [06:54<00:00, 96.44it/s]\n"
     ]
    }
   ],
   "source": [
    "# zs存放普通网络第2个隐层的非线性激活前的加权和向量。\n",
    "# BNs存放BN网络第2个隐层的非线性激活前的加权和向量（经过了BN）。\n",
    "# acc, acc_BN存放训练阶段，通过测试集测得的精度序列。用于绘制learning curve\n",
    "zs, BNs, acc, acc_BN = [], [], [], []\n",
    "\n",
    "# 开一个sess，同时跑train_step、train_step_BN\n",
    "sess = tf.InteractiveSession()\n",
    "sess.run(tf.global_variables_initializer())\n",
    "for i in tqdm.tqdm(range(40000)):\n",
    "    batch = mnist.train.next_batch(60)\n",
    "    \n",
    "    # 运行train_step，训练无BN网络\n",
    "    train_step.run(feed_dict={x: batch[0], y_: batch[1]})\n",
    "    # 运行train_step_BN，训练有BN的网络\n",
    "    train_step_BN.run(feed_dict={x: batch[0], y_: batch[1]})\n",
    "    \n",
    "    if i % 50 is 0:\n",
    "        # 每50个batch，测一测精度，并把第二层的加权输入，没进BN层之前的z2，被BN层处理过的BN2，都算一遍\n",
    "        res = sess.run([accuracy,accuracy_BN,z2,BN2],feed_dict={x: mnist.test.images, y_: mnist.test.labels})\n",
    "        \n",
    "        # 保存训练阶段的精度记录，acc是无BN网络的记录，acc_BN是有BN网络的记录，\n",
    "        acc.append(res[0])\n",
    "        acc_BN.append(res[1])\n",
    "        \n",
    "        # 保存训练阶段的z2，BN2的历史记录\n",
    "        zs.append(np.mean(res[2],axis=0)) \n",
    "        BNs.append(np.mean(res[3],axis=0))\n",
    "\n",
    "zs, BNs, acc, acc_BN = np.array(zs), np.array(BNs), np.array(acc), np.array(acc_BN)"
   ]
  },
  {
   "cell_type": "markdown",
   "metadata": {
    "ExecuteTime": {
     "end_time": "2019-09-12T08:15:31.574209Z",
     "start_time": "2019-09-12T08:15:31.568209Z"
    }
   },
   "source": [
    "对比训练阶段的学习曲线：\n",
    "绘制精度训练曲线的结果表明BN的加入，大大提升了训练效率。"
   ]
  },
  {
   "cell_type": "code",
   "execution_count": 11,
   "metadata": {
    "ExecuteTime": {
     "end_time": "2020-01-20T08:01:07.231099Z",
     "start_time": "2020-01-20T08:01:06.354099Z"
    }
   },
   "outputs": [
    {
     "data": {
      "image/png": "[encoded data removed]",
      "text/plain": [
       "<Figure size 432x288 with 1 Axes>"
      ]
     },
     "metadata": {
      "needs_background": "light"
     },
     "output_type": "display_data"
    }
   ],
   "source": [
    "fig, ax = plt.subplots()\n",
    "\n",
    "ax.plot(range(0,len(acc)*50,50),acc, label='Without BN')\n",
    "ax.plot(range(0,len(acc)*50,50),acc_BN, label='With BN')\n",
    "ax.set_xlabel('Training steps')\n",
    "ax.set_ylabel('Accuracy')\n",
    "# ax.set_ylim([0.8,1])\n",
    "ax.set_title('Batch Normalization Accuracy')\n",
    "ax.legend(loc=4)\n",
    "plt.show()"
   ]
  },
  {
   "cell_type": "markdown",
   "metadata": {
    "ExecuteTime": {
     "end_time": "2020-01-20T06:54:13.537099Z",
     "start_time": "2020-01-20T06:54:13.525099Z"
    }
   },
   "source": [
    "- zs与BNs\n",
    "\n",
    "其中：\n",
    "zs 来自无BN网络的第二个隐层的输入加权和向量，即下一步将喂给本层的激活函数。\n",
    "BNs 来自有BN网络的第二个隐层的输入加权和经过BN层处理后的向量，即下一步也将喂给本层的激活函数。\n",
    "- 效果：没有BN，则网络的加权和完全跑飞了；有BN，则加权和会被约束在0附近。\n",
    "\n"
   ]
  },
  {
   "cell_type": "code",
   "execution_count": 12,
   "metadata": {
    "ExecuteTime": {
     "end_time": "2020-01-20T08:01:10.862099Z",
     "start_time": "2020-01-20T08:01:07.239099Z"
    }
   },
   "outputs": [
    {
     "data": {
      "image/png": "[encoded data removed]",
      "text/plain": [
       "<Figure size 432x864 with 10 Axes>"
      ]
     },
     "metadata": {
      "needs_background": "light"
     },
     "output_type": "display_data"
    }
   ],
   "source": [
    "# 显示在无BN和有BN两个网络里，800次前向传播中第2个隐层的5个神经元的加权和的输入范围。\n",
    "fig, axes = plt.subplots(5, 2, figsize=(6,12))\n",
    "# fig, axes = plt.subplots(5, 2)\n",
    "fig.tight_layout()\n",
    "\n",
    "for i, ax in enumerate(axes):\n",
    "    ax[0].set_title(\"Without BN\")\n",
    "    ax[1].set_title(\"With BN\")\n",
    "    # [:,i]表示取其中一列，也就是对应神经网络中\n",
    "    # print(zs[:,i].shape)\n",
    "    ax[0].plot(zs[:,i])\n",
    "    ax[1].plot(BNs[:,i])\n",
    "plt.show()"
   ]
  },
  {
   "cell_type": "markdown",
   "metadata": {
    "ExecuteTime": {
     "end_time": "2019-09-13T11:34:34.384501Z",
     "start_time": "2019-09-13T11:34:34.368501Z"
    }
   },
   "source": [
    "# 测试阶段的问题\n",
    "带有BN的网络，不能直接用于测试。\n",
    "因为测试阶段每个样本如果是逐个输入，相当于batch_size=1,那么均值为自己，方差为0，正则化后将为0。\n",
    "导致模型的输入永远是一个0值。因此预测将根据训练的权重输出一个大概率是错误的预测。"
   ]
  },
  {
   "cell_type": "code",
   "execution_count": 13,
   "metadata": {
    "ExecuteTime": {
     "end_time": "2020-01-20T08:01:13.521099Z",
     "start_time": "2020-01-20T08:01:10.867099Z"
    }
   },
   "outputs": [
    {
     "name": "stdout",
     "output_type": "stream",
     "text": [
      "PREDICTIONS: [8, 8, 8, 8, 8, 8, 8, 8, 8, 8, 8, 8, 8, 8, 8, 8, 8, 8, 8, 8, 8, 8, 8, 8, 8, 8, 8, 8, 8, 8, 8, 8, 8, 8, 8, 8, 8, 8, 8, 8, 8, 8, 8, 8, 8, 8, 8, 8, 8, 8, 8, 8, 8, 8, 8, 8, 8, 8, 8, 8, 8, 8, 8, 8, 8, 8, 8, 8, 8, 8, 8, 8, 8, 8, 8, 8, 8, 8, 8, 8, 8, 8, 8, 8, 8, 8, 8, 8, 8, 8, 8, 8, 8, 8, 8, 8, 8, 8, 8, 8]\n",
      "ACCURACY: 0.02\n"
     ]
    }
   ],
   "source": [
    "predictions = []\n",
    "correct = 0\n",
    "for i in range(100):\n",
    "    pred, corr = sess.run([tf.arg_max(y_BN,1), accuracy_BN],\n",
    "                         feed_dict={x: [mnist.test.images[i]], y_: [mnist.test.labels[i]]})\n",
    "    # 累加，最终用于求取100次预测的平均精度\n",
    "    correct += corr\n",
    "    # 保存每次预测的结果\n",
    "    predictions.append(pred[0])\n",
    "print(\"PREDICTIONS:\", predictions)\n",
    "print(\"ACCURACY:\", correct/100)\n",
    "sess.close()\n",
    "# 结果将是：不管输入的是什么照片，结果都将相同。因为每个图片在仅有自己的mini-batch上都被标准化为了全0向量。"
   ]
  },
  {
   "cell_type": "markdown",
   "metadata": {},
   "source": [
    "# 实际应用的细节\n",
    "\n",
    "为了避免推理（or预测）时出现的问题，需要注意一下几点：\n",
    "## 构造BN层\n",
    "batch_norm_wrapper将实现在更为高级的功能，合二为一：\n",
    "- 训练阶段，统计训练集均值和方差；\n",
    "- 推理阶段，直接使用训练阶段的统计结果。"
   ]
  },
  {
   "cell_type": "code",
   "execution_count": 14,
   "metadata": {
    "ExecuteTime": {
     "end_time": "2020-01-20T08:01:13.562099Z",
     "start_time": "2020-01-20T08:01:13.527099Z"
    }
   },
   "outputs": [],
   "source": [
    "# batch_norm_wrapper 是对tensorflow中BN层实现的一个核心功能的重现。\n",
    "# https://github.com/tensorflow/tensorflow/blob/master/tensorflow/contrib/layers/python/layers/layers.py#L102\n",
    "# 其功能是：对于每个batch的每一层的加权输入\n",
    "# 在训练阶段，统计方差和均值，一边记录和更新总体方差和均值。\n",
    "# 在测试/评估阶段，直接使用训练时统计好的总体方差和均值。\n",
    "def batch_norm_wrapper(inputs, is_training, decay = 0.999):\n",
    "\n",
    "    # 每个BN层，引入了4个变量 scale beta pop_mean pop_var，其中:\n",
    "    # scale beta 是可训练的，训练结束后被保存为模型参数\n",
    "    # pop_mean pop_var 是不可训练，只在训练中进行统计，\n",
    "    # pop_mean pop_var 最终保存为模型的变量。在测试时重构的计算图会接入该变量，只要载入训练参数即可。\n",
    "    scale = tf.Variable(tf.ones([inputs.get_shape()[-1]]))\n",
    "    beta = tf.Variable(tf.zeros([inputs.get_shape()[-1]]))\n",
    "    pop_mean = tf.Variable(tf.zeros([inputs.get_shape()[-1]]), trainable=False)\n",
    "    pop_var = tf.Variable(tf.ones([inputs.get_shape()[-1]]), trainable=False)\n",
    "\n",
    "    if is_training:\n",
    "        # 以下为训练时的BN计算图构造\n",
    "        # batch_mean、batch_var在一个batch里的每一层，在前向传播时会计算一次，\n",
    "        # 在反传时通过它来计算本层输入加权和的梯度，仅仅作为整个网络传递梯度的功能。在训练结束后被废弃。\n",
    "        batch_mean, batch_var = tf.nn.moments(inputs,[0])\n",
    "        \n",
    "        # 通过移动指数平均的方式，把每一个batch的统计量汇总进来，更新总体统计量的估计值pop_mean、pop_var\n",
    "        # assign构建计算图一个operation，即把pop_mean * decay + batch_mean * (1 - decay) 赋值给pop_mean\n",
    "        train_mean = tf.assign(pop_mean,pop_mean * decay + batch_mean * (1 - decay))\n",
    "        train_var = tf.assign(pop_var,pop_var * decay + batch_var * (1 - decay))\n",
    "\n",
    "        # 确保本层的train_mean、train_var这两个operation都执行了，才进行BN。\n",
    "        with tf.control_dependencies([train_mean, train_var]):\n",
    "            return tf.nn.batch_normalization(inputs,batch_mean, batch_var, beta, scale, epsilon)\n",
    "    else:\n",
    "        # 以下为测试时的BN计算图构造，即直接载入已训练模型的beta, scale,已训练模型中保存的pop_mean, pop_var\n",
    "        return tf.nn.batch_normalization(inputs,pop_mean, pop_var, beta, scale, epsilon)"
   ]
  },
  {
   "cell_type": "markdown",
   "metadata": {
    "ExecuteTime": {
     "end_time": "2019-09-12T09:10:57.550509Z",
     "start_time": "2019-09-12T09:10:57.518509Z"
    }
   },
   "source": [
    "构造计算图，其中通过调用上面定义好的BN包装器，实现BN层的简洁添加。"
   ]
  },
  {
   "cell_type": "code",
   "execution_count": 15,
   "metadata": {
    "ExecuteTime": {
     "end_time": "2020-01-20T08:01:13.619099Z",
     "start_time": "2020-01-20T08:01:13.568099Z"
    }
   },
   "outputs": [],
   "source": [
    "def build_graph(is_training):\n",
    "    x = tf.placeholder(tf.float32, shape=[None, 784],name=\"x\")\n",
    "    y_ = tf.placeholder(tf.float32, shape=[None, 10],name=\"y_\")\n",
    "\n",
    "    w1 = tf.Variable(w1_initial)\n",
    "    z1 = tf.matmul(x,w1)\n",
    "    bn1 = batch_norm_wrapper(z1, is_training)\n",
    "    l1 = tf.nn.sigmoid(bn1)\n",
    "\n",
    "    w2 = tf.Variable(w2_initial)\n",
    "    z2 = tf.matmul(l1,w2)\n",
    "    bn2 = batch_norm_wrapper(z2, is_training)\n",
    "    l2 = tf.nn.sigmoid(bn2)\n",
    "\n",
    "    w3 = tf.Variable(w3_initial)\n",
    "    # b3 = tf.Variable(tf.zeros([10]))\n",
    "    # y  = tf.nn.softmax(tf.matmul(l2, w3))\n",
    "    z3 = tf.matmul(l2,w3)\n",
    "    bn3 = batch_norm_wrapper(z3, is_training)\n",
    "    y  = tf.nn.softmax(bn3)\n",
    "\n",
    "\n",
    "    cross_entropy = -tf.reduce_sum(y_*tf.log(y))\n",
    "    train_step = tf.train.GradientDescentOptimizer(0.01).minimize(cross_entropy)\n",
    "    correct_prediction = tf.equal(tf.arg_max(y,1),tf.arg_max(y_,1))\n",
    "    accuracy = tf.reduce_mean(tf.cast(correct_prediction,tf.float32),name='accuracy')\n",
    "\n",
    "    return (x, y_), train_step, accuracy, y"
   ]
  },
  {
   "cell_type": "markdown",
   "metadata": {
    "ExecuteTime": {
     "end_time": "2019-09-12T08:15:31.585209Z",
     "start_time": "2019-09-12T08:09:05.683Z"
    }
   },
   "source": [
    "训练阶段：\n",
    "- 通过传入is_training=True，开启计算图的方差和均值统计操作。\n",
    "- 训练结束后，保存模型，包含计算图和参数，实际上只有参数会被用到，因为在预测时会新建计算图。"
   ]
  },
  {
   "cell_type": "code",
   "execution_count": 16,
   "metadata": {
    "ExecuteTime": {
     "end_time": "2020-01-20T08:01:52.802099Z",
     "start_time": "2020-01-20T08:01:13.623099Z"
    },
    "scrolled": false
   },
   "outputs": [
    {
     "name": "stderr",
     "output_type": "stream",
     "text": [
      "100%|███████████████████████████████████| 10000/10000 [00:38<00:00, 260.31it/s]\n"
     ]
    },
    {
     "name": "stdout",
     "output_type": "stream",
     "text": [
      "Final accuracy: 0.9538\n"
     ]
    }
   ],
   "source": [
    "tf.reset_default_graph()\n",
    "(x, y_), train_step, accuracy, _,= build_graph(is_training=True)\n",
    "\n",
    "acc = []\n",
    "with tf.Session() as sess:\n",
    "    sess.run(tf.global_variables_initializer())\n",
    "    for i in tqdm.tqdm(range(10000)):\n",
    "        batch = mnist.train.next_batch(60)\n",
    "        train_step.run(feed_dict={x: batch[0], y_: batch[1]})\n",
    "        if i % 200 is 0:\n",
    "            res = sess.run([accuracy],feed_dict={x: mnist.test.images, y_: mnist.test.labels})\n",
    "            acc.append(res[0])\n",
    "            # print('batch:',i,'    accuracy:',res[0])\n",
    "    # 保存模型，注意该模型是不可用的。因为其计算图是训练的计算图。\n",
    "    saver=tf.train.Saver()\n",
    "    # saved_model = saver.save(sess, './temp-bn-save')\n",
    "    saver.save(sess, './bn_test/temp-bn-save')\n",
    "    writer=tf.summary.FileWriter('./improved_graph2',sess.graph)\n",
    "    writer.flush()\n",
    "    writer.close()\n",
    "print(\"Final accuracy:\", acc[-1])\n"
   ]
  },
  {
   "cell_type": "markdown",
   "metadata": {
    "ExecuteTime": {
     "end_time": "2019-09-13T10:22:12.899501Z",
     "start_time": "2019-09-13T10:22:12.865501Z"
    }
   },
   "source": [
    "测试阶段：先构造测试/评估的计算图，再把训练好的模型参数载入到这个计算图中。 "
   ]
  },
  {
   "cell_type": "code",
   "execution_count": 17,
   "metadata": {
    "ExecuteTime": {
     "end_time": "2020-01-20T08:01:54.934099Z",
     "start_time": "2020-01-20T08:01:52.804099Z"
    }
   },
   "outputs": [
    {
     "name": "stdout",
     "output_type": "stream",
     "text": [
      "INFO:tensorflow:Restoring parameters from ./bn_test/temp-bn-save\n",
      "PREDICTIONS: [7, 2, 1, 0, 4, 1, 4, 9, 6, 9, 0, 6, 9, 0, 1, 5, 9, 7, 3, 4, 9, 6, 6, 5, 4, 0, 7, 4, 0, 1, 3, 1, 3, 4, 7, 2, 7, 1, 2, 1, 1, 7, 4, 2, 3, 5, 1, 2, 4, 4, 6, 3, 5, 5, 6, 0, 4, 1, 9, 7, 7, 8, 9, 3, 7, 4, 1, 4, 3, 0, 7, 0, 2, 9, 1, 7, 3, 2, 9, 7, 7, 6, 2, 7, 8, 4, 7, 3, 6, 1, 3, 6, 9, 3, 1, 4, 1, 7, 6, 9]\n",
      "ACCURACY: 0.97\n"
     ]
    }
   ],
   "source": [
    "tf.reset_default_graph()\n",
    "# (x, y_), _, accuracy, y, saver = build_graph(is_training=False)\n",
    "(x, y_), _, accuracy, y = build_graph(is_training=False)\n",
    "\n",
    "predictions = []\n",
    "correct = 0\n",
    "with tf.Session() as sess:\n",
    "    sess.run(tf.global_variables_initializer())\n",
    "    \n",
    "    # 读取训练时模型，将学到的权重参数、估计的总体均值、方差，通过restore，载入到运行的计算图中。\n",
    "    saver=tf.train.Saver()\n",
    "    saver.restore(sess, './bn_test/temp-bn-save')\n",
    "    saver.save(sess, './bn_release/temp-bn-save')\n",
    "    \n",
    "    for i in range(100):\n",
    "        pred, corr = sess.run([tf.arg_max(y,1), accuracy],\n",
    "                             feed_dict={x: [mnist.test.images[i]], y_: [mnist.test.labels[i]]})\n",
    "        correct += corr\n",
    "        predictions.append(pred[0])\n",
    "print(\"PREDICTIONS:\", predictions)\n",
    "print(\"ACCURACY:\", correct/100)\n"
   ]
  },
  {
   "cell_type": "markdown",
   "metadata": {
    "ExecuteTime": {
     "end_time": "2019-09-13T10:22:53.590501Z",
     "start_time": "2019-09-13T10:22:53.584501Z"
    }
   },
   "source": [
    "# 其他可以做的试验\n",
    "## BN到添加位置试验\n",
    "在加权和后 vs 在加权和前\n",
    "靠近输入层 vs 靠近输出层\n",
    "\n",
    "## BN的添加量试验\n",
    "在每一层都加BN vs 在少数几层加BN \n",
    "## BN对学习率的影响\n",
    "大学习率 vs 小学习率\n",
    "## Batch_size对BN效果的影响\n",
    "小batch_size vs 大batch_size"
   ]
  }
 ],
 "metadata": {
  "kernelspec": {
   "display_name": "Python 3",
   "language": "python",
   "name": "python3"
  },
  "language_info": {
   "codemirror_mode": {
    "name": "ipython",
    "version": 3
   },
   "file_extension": ".py",
   "mimetype": "text/x-python",
   "name": "python",
   "nbconvert_exporter": "python",
   "pygments_lexer": "ipython3",
   "version": "3.6.8"
  },
  "latex_envs": {
   "LaTeX_envs_menu_present": true,
   "autoclose": false,
   "autocomplete": true,
   "bibliofile": "biblio.bib",
   "cite_by": "apalike",
   "current_citInitial": 1,
   "eqLabelWithNumbers": true,
   "eqNumInitial": 1,
   "hotkeys": {
    "equation": "Ctrl-E",
    "itemize": "Ctrl-I"
   },
   "labels_anchors": false,
   "latex_user_defs": false,
   "report_style_numbering": false,
   "user_envs_cfg": false
  },
  "toc": {
   "base_numbering": 1,
   "nav_menu": {},
   "number_sections": true,
   "sideBar": true,
   "skip_h1_title": false,
   "title_cell": "Table of Contents",
   "title_sidebar": "Contents",
   "toc_cell": false,
   "toc_position": {},
   "toc_section_display": true,
   "toc_window_display": false
  }
 },
 "nbformat": 4,
 "nbformat_minor": 2
}
